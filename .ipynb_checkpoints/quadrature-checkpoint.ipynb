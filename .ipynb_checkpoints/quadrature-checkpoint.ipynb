{
 "cells": [
  {
   "cell_type": "markdown",
   "metadata": {},
   "source": [
    "Simpson´s Method"
   ]
  },
  {
   "cell_type": "code",
   "execution_count": 9,
   "metadata": {},
   "outputs": [],
   "source": [
    "%matplotlib inline\n",
    "\n",
    "from numpy import *\n",
    "from matplotlib.pyplot import *\n",
    "from math import factorial\n",
    "newparams = {'figure.figsize': (8.0, 4.0), 'axes.grid': True,\n",
    "             'lines.markersize': 8, 'lines.linewidth': 2,\n",
    "             'font.size': 14}\n",
    "rcParams.update(newparams)"
   ]
  },
  {
   "cell_type": "markdown",
   "metadata": {},
   "source": [
    "3c)"
   ]
  },
  {
   "cell_type": "code",
   "execution_count": 10,
   "metadata": {},
   "outputs": [],
   "source": [
    "def simpson_basic(f, a, b):\n",
    "    # Simpson's method with error estimate\n",
    "    # Input:  \n",
    "    #   f:    integrand\n",
    "    #   a, b: integration interval\n",
    "    # Output:\n",
    "    #   S_2(a,b) and the error estimate.\n",
    "    \n",
    "    # The nodes \n",
    "    c = 0.5*(a+b)\n",
    "    d = 0.5*(a+c)\n",
    "    e = 0.5*(c+b)\n",
    "    \n",
    "    # Calculate S1=S_1(a,b), S2=S_2(a,b) \n",
    "    H = b-a\n",
    "    S1 = H*(f(a)+4*f(c)+f(b))/6\n",
    "    S2 = 0.5*H*(f(a)+4*f(d)+2*f(c)+4*f(e)+f(b))/6\n",
    "\n",
    "    error_estimate = (S2-S1)/15    # Error estimate for S2\n",
    "    return S2, error_estimate\n",
    "\n",
    "def simpson(f, a, b, m=10):\n",
    "# Find an approximation to an integral by the composite Simpson's method:\n",
    "# Input:  \n",
    "#   f:    integrand\n",
    "#   a, b: integration interval\n",
    "#   m:    number of subintervals\n",
    "# Output: The approximation to the integral\n",
    "    n = 2*m\n",
    "    x_noder = linspace(a, b, n+1)       # equidistributed nodes from a to b \n",
    "    h = (b-a)/n                         # stepsize\n",
    "    S1 = f(x_noder[0]) + f(x_noder[n])  # S1 = f(x_0)+f(x_n)\n",
    "    S2 = sum(f(x_noder[1:n:2]))         # S2 = f(x_1)+f(x_3)+...+f(x_m)\n",
    "    S3 = sum(f(x_noder[2:n-1:2]))       # S3 = f(x_2)+f(x_4)+...+f(x_{m-1})\n",
    "    S = h*(S1 + 4*S2 + 2*S3)/3\n",
    "    return S"
   ]
  },
  {
   "cell_type": "code",
   "execution_count": 11,
   "metadata": {
    "scrolled": true
   },
   "outputs": [
    {
     "name": "stdout",
     "output_type": "stream",
     "text": [
      "I = 0.31809237,  S = 0.31809237,  error = -1.490e-09\n"
     ]
    }
   ],
   "source": [
    "def f(x):\n",
    "    return exp(-x) # Integrand\n",
    "\n",
    "m = 33  # Number of intervalls\n",
    "a, b = 1, 3                # Integration interval\n",
    "\n",
    "I_exact = -exp(-3)+exp(-1)              # Exact value of the integral (for comparision)\n",
    "S = simpson(f, a, b, m=m)   # Numerical solution, using m subintervals   \n",
    "err = I_exact-S             # Error\n",
    "\n",
    "print('I = {:.8f},  S = {:.8f},  error = {:.3e}'.format(I_exact, S, err))"
   ]
  },
  {
   "cell_type": "markdown",
   "metadata": {},
   "source": [
    "4f)"
   ]
  },
  {
   "cell_type": "code",
   "execution_count": 18,
   "metadata": {},
   "outputs": [],
   "source": [
    "def gauss_basic(f, a, b):\n",
    "    \"\"\"\n",
    "    :param f: Integrand function f(x)\n",
    "    :param a, b: Integration interval\n",
    "    \n",
    "    returns: Q_1(a,b) and the error estimate\n",
    "    WRITTEN BY: HENRIK HØINESS\n",
    "    \"\"\"\n",
    "    def gauss(f, a, b):\n",
    "        h = (b-a)/2\n",
    "        c = (b+a)/2\n",
    "        n = 2\n",
    "\n",
    "        x_values = [c-h*sqrt(3/5), c, c+h*sqrt(3/5)]\n",
    "        w_values = [5/9, 8/9, 5/9]\n",
    "\n",
    "        return h * math.fsum(f(x_values[i])*w_values[i] for i in range(n+1))\n",
    "    \n",
    "    m = 2\n",
    "    H = (b-a)/m\n",
    "    Q_1 = gauss(f, a, b)\n",
    "    Q_2 = math.fsum(gauss(f, a+k*H, a+(k+1)*H) for k in range(0, m))\n",
    "  \n",
    "    error_estimate = (Q_2 - Q_1)*(64/63)\n",
    "    \n",
    "    return Q_1, error_estimate\n",
    "\n",
    "\n",
    "def integrate_x_power_n(n, a, b):\n",
    "    \"\"\"\n",
    "    returns: Finite integral of x^n from a to b\n",
    "    WRITTEN BY: HENRIK HØINESS\n",
    "    \"\"\"\n",
    "    upper_bound = ((b)**(n+1))/(n+1)\n",
    "    lower_bound = ((a)**(n+1))/(n+1)\n",
    "    return upper_bound - lower_bound\n",
    "\n",
    "\n",
    "def find_precision_degree(quadrature, max_degree=25):\n",
    "    \"\"\"\n",
    "    Method for finding the precision degree of any quadrature-formula\n",
    "    WRITTEN BY: HENRIK HØINESS\n",
    "    \"\"\"\n",
    "    precision_degree = -1\n",
    "    while precision_degree < max_degree:\n",
    "        precision_degree += 1\n",
    "        \n",
    "        def x_power_n(x):\n",
    "            return x**precision_degree\n",
    "        \n",
    "        Q = quadrature(x_power_n, -1, 1)[0]\n",
    "        I = integrate_x_power_n(precision_degree, -1, 1)\n",
    "        \n",
    "        if \"{:.15f}\".format(Q) != \"{:.15f}\".format(I):\n",
    "            return precision_degree - 1  # Returning the precision-degree, that last was equal\n",
    "        \n",
    "        precision_degree += 1\n",
    "    \n",
    "    return precision_degree - 1"
   ]
  },
  {
   "cell_type": "code",
   "execution_count": 19,
   "metadata": {
    "scrolled": true
   },
   "outputs": [
    {
     "name": "stdout",
     "output_type": "stream",
     "text": [
      "The Gauss–Legendre quadrature has precision degree = 5\n",
      "\n",
      "Confirming answer from c) with f(x) = e^-x: Q[f](1,3) = 0.318083513944, with the error estimate 8.8e-06\n"
     ]
    }
   ],
   "source": [
    "print(f\"The Gauss–Legendre quadrature has precision degree = {find_precision_degree(gauss_basic)}\", end=\"\\n\\n\")\n",
    "Q1, error_estimate = gauss_basic(f, 1, 3)\n",
    "print(\"Confirming answer from c) with f(x) = e^-x: Q[f](1,3) = {:.12f}, with the error estimate {:.1e}\".format(Q1, error_estimate))\n"
   ]
  },
  {
   "cell_type": "markdown",
   "metadata": {},
   "source": [
    "4g)"
   ]
  },
  {
   "cell_type": "code",
   "execution_count": 20,
   "metadata": {},
   "outputs": [],
   "source": [
    "def gauss_adaptive(f, a, b, tol = 1.e-6, level = 0, maks_level=15):\n",
    "    \"\"\"\n",
    "    Gauss-Legendre's adaptive method\n",
    "    \n",
    "    :param f: integrand function f\n",
    "    :param a, b: integration interval [a,b]\n",
    "    :param tol: tolerance\n",
    "    :param level, maks_level: Current- and maximum level of recursion\n",
    "    \n",
    "    returns: The approximation to the integral\n",
    "    WRITTEN BY: HENRIK HØINESS\n",
    "    \"\"\"\n",
    "    \n",
    "    \n",
    "    Q, error_estimate = gauss_basic(f, a, b)    # The quadrature and the error estimate \n",
    "    \n",
    "    # -------------------------------------------------\n",
    "    # Write the output, and plot the nodes. \n",
    "    # This part is only for illustration. \n",
    "    if level == 0:\n",
    "        print(' l   a           b         feil_est   tol')\n",
    "        print('==============================================') \n",
    "    print('{:2d}   {:.6f}   {:.6f}   {:.2e}   {:.2e}'.format(\n",
    "            level, a, b, abs(error_estimate), tol))\n",
    "    \n",
    "    x = linspace(a, b, 101)\n",
    "    plot(x, f(x), [a, b], [f(a), f(b)], '.r')\n",
    "    title('The integrand and the subintervals')\n",
    "    # -------------------------------------------------\n",
    "    \n",
    "    if level >= maks_level:\n",
    "        print('Warning: Maximum number of levels used.')\n",
    "        return Q\n",
    "    \n",
    "    if abs(error_estimate) < tol:         # Accept the result, and return\n",
    "        result = Q + error_estimate      \n",
    "    else:\n",
    "        # Divide the interval in two, and apply the algorithm to each interval.\n",
    "        c = 0.5*(b+a)\n",
    "        result_left  = gauss_adaptive(f, a, c, tol = 0.5*tol, level = level+1)\n",
    "        result_right = gauss_adaptive(f, c, b, tol = 0.5*tol, level = level+1)\n",
    "        result = result_right + result_left\n",
    "    return result"
   ]
  },
  {
   "cell_type": "code",
   "execution_count": 21,
   "metadata": {},
   "outputs": [
    {
     "name": "stdout",
     "output_type": "stream",
     "text": [
      " l   a           b         feil_est   tol\n",
      "==============================================\n",
      " 0   0.000000   2.000000   2.69e+01   1.00e-03\n",
      " 1   0.000000   1.000000   1.13e+01   5.00e-04\n",
      " 2   0.000000   0.500000   9.59e-01   2.50e-04\n",
      " 3   0.000000   0.250000   1.87e-02   1.25e-04\n",
      " 4   0.000000   0.125000   6.71e-06   6.25e-05\n",
      " 4   0.125000   0.250000   7.86e-04   6.25e-05\n",
      " 5   0.125000   0.187500   2.46e-06   3.13e-05\n",
      " 5   0.187500   0.250000   6.34e-07   3.13e-05\n",
      " 3   0.250000   0.500000   2.22e-01   1.25e-04\n",
      " 4   0.250000   0.375000   6.87e-03   6.25e-05\n",
      " 5   0.250000   0.312500   3.28e-05   3.13e-05\n",
      " 6   0.250000   0.281250   4.54e-07   1.56e-05\n",
      " 6   0.281250   0.312500   9.73e-07   1.56e-05\n",
      " 5   0.312500   0.375000   6.19e-05   3.13e-05\n",
      " 6   0.312500   0.343750   2.50e-07   1.56e-05\n",
      " 6   0.343750   0.375000   2.97e-07   1.56e-05\n",
      " 4   0.375000   0.500000   4.38e-04   6.25e-05\n",
      " 5   0.375000   0.437500   7.56e-06   3.13e-05\n",
      " 5   0.437500   0.500000   7.24e-07   3.13e-05\n",
      " 2   0.500000   1.000000   1.21e-01   2.50e-04\n",
      " 3   0.500000   0.750000   1.78e-04   1.25e-04\n",
      " 4   0.500000   0.625000   6.36e-06   6.25e-05\n",
      " 4   0.625000   0.750000   2.73e-06   6.25e-05\n",
      " 3   0.750000   1.000000   3.42e-03   1.25e-04\n",
      " 4   0.750000   0.875000   3.11e-05   6.25e-05\n",
      " 4   0.875000   1.000000   1.64e-05   6.25e-05\n",
      " 1   1.000000   2.000000   3.27e-03   5.00e-04\n",
      " 2   1.000000   1.500000   9.31e-03   2.50e-04\n",
      " 3   1.000000   1.250000   3.92e-04   1.25e-04\n",
      " 4   1.000000   1.125000   3.26e-07   6.25e-05\n",
      " 4   1.125000   1.250000   1.23e-06   6.25e-05\n",
      " 3   1.250000   1.500000   3.43e-06   1.25e-04\n",
      " 2   1.500000   2.000000   4.14e-05   2.50e-04\n",
      "\n",
      "Numerical solution =  41.326214, exact solution =  41.326214\n",
      "\n",
      "Tolerance = 1.0e-03, error = 1.286e-07\n"
     ]
    },
    {
     "data": {
      "image/png": "[encoded data removed]",
      "text/plain": [
       "<Figure size 576x288 with 1 Axes>"
      ]
     },
     "metadata": {
      "needs_background": "light"
     },
     "output_type": "display_data"
    }
   ],
   "source": [
    "# Running the adaptive Gauss's method\n",
    "def f(x):                               # Integrand f(x)  \n",
    "    return ((1/((x-0.3)**2 + 0.01)) + (1/((x-0.9)**2 + 0.04)))\n",
    "\n",
    "a, b = 0, 2                             # Integration interval\n",
    "I_exact = 41.326213804391148551          # Exact integral\n",
    "tol = 1.e-3                             # Tolerance\n",
    "\n",
    "# Apply the algorithm\n",
    "result = gauss_adaptive(f, a, b, tol=tol)\n",
    "\n",
    "# Print the result and the exact solution \n",
    "print('\\nNumerical solution = {:10f}, exact solution = {:10f}'\n",
    "      .format(result, I_exact))\n",
    "\n",
    "# Comparing the measured error and the tolerance\n",
    "err = I_exact - result\n",
    "print('\\nTolerance = {:.1e}, error = {:.3e}'.format(tol, abs(err)))"
   ]
  }
 ],
 "metadata": {
  "kernelspec": {
   "display_name": "Python 3",
   "language": "python",
   "name": "python3"
  },
  "language_info": {
   "codemirror_mode": {
    "name": "ipython",
    "version": 3
   },
   "file_extension": ".py",
   "mimetype": "text/x-python",
   "name": "python",
   "nbconvert_exporter": "python",
   "pygments_lexer": "ipython3",
   "version": "3.7.0"
  }
 },
 "nbformat": 4,
 "nbformat_minor": 2
}
