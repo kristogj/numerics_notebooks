{
 "cells": [
  {
   "cell_type": "markdown",
   "metadata": {},
   "source": [
    "Simpson´s Method"
   ]
  },
  {
   "cell_type": "code",
   "execution_count": 1,
   "metadata": {},
   "outputs": [],
   "source": [
    "%matplotlib inline\n",
    "\n",
    "from numpy import *\n",
    "from matplotlib.pyplot import *\n",
    "from math import factorial\n",
    "newparams = {'figure.figsize': (8.0, 4.0), 'axes.grid': True,\n",
    "             'lines.markersize': 8, 'lines.linewidth': 2,\n",
    "             'font.size': 14}\n",
    "rcParams.update(newparams)"
   ]
  },
  {
   "cell_type": "code",
   "execution_count": 2,
   "metadata": {},
   "outputs": [],
   "source": [
    "def simpson(f, a, b, m=10):\n",
    "# Find an approximation to an integral by the composite Simpson's method:\n",
    "# Input:  \n",
    "#   f:    integrand\n",
    "#   a, b: integration interval\n",
    "#   m:    number of subintervals\n",
    "# Output: The approximation to the integral\n",
    "    n = 2*m\n",
    "    x_noder = linspace(a, b, n+1)       # equidistributed nodes from a to b \n",
    "    h = (b-a)/n                         # stepsize\n",
    "    S1 = f(x_noder[0]) + f(x_noder[n])  # S1 = f(x_0)+f(x_n)\n",
    "    S2 = sum(f(x_noder[1:n:2]))         # S2 = f(x_1)+f(x_3)+...+f(x_m)\n",
    "    S3 = sum(f(x_noder[2:n-1:2]))       # S3 = f(x_2)+f(x_4)+...+f(x_{m-1})\n",
    "    S = h*(S1 + 4*S2 + 2*S3)/3\n",
    "    return S"
   ]
  },
  {
   "cell_type": "code",
   "execution_count": 8,
   "metadata": {},
   "outputs": [
    {
     "name": "stdout",
     "output_type": "stream",
     "text": [
      "I = 0.31809237,  S = 0.31809237,  error = -1.490e-09\n"
     ]
    }
   ],
   "source": [
    "def f(x):\n",
    "    return exp(-x) # Integrand\n",
    "\n",
    "m = 33  # Number of intervalls\n",
    "a, b = 1, 3                # Integration interval\n",
    "\n",
    "I_exact = -exp(-3)+exp(-1)              # Exact value of the integral (for comparision)\n",
    "S = simpson(f, a, b, m=m)   # Numerical solution, using m subintervals   \n",
    "err = I_exact-S             # Error\n",
    "\n",
    "print('I = {:.8f},  S = {:.8f},  error = {:.3e}'.format(I_exact, S, err))"
   ]
  },
  {
   "cell_type": "code",
   "execution_count": null,
   "metadata": {},
   "outputs": [],
   "source": []
  }
 ],
 "metadata": {
  "kernelspec": {
   "display_name": "Python 3",
   "language": "python",
   "name": "python3"
  },
  "language_info": {
   "codemirror_mode": {
    "name": "ipython",
    "version": 3
   },
   "file_extension": ".py",
   "mimetype": "text/x-python",
   "name": "python",
   "nbconvert_exporter": "python",
   "pygments_lexer": "ipython3",
   "version": "3.7.0"
  }
 },
 "nbformat": 4,
 "nbformat_minor": 2
}
